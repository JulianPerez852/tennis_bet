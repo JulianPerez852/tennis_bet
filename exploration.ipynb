{
 "cells": [
  {
   "cell_type": "markdown",
   "metadata": {},
   "source": [
    "#### EDA Data Tenis"
   ]
  },
  {
   "cell_type": "code",
   "execution_count": 1,
   "metadata": {},
   "outputs": [
    {
     "name": "stderr",
     "output_type": "stream",
     "text": [
      "g:\\dev\\tennis_bet\\.venv\\Lib\\site-packages\\tqdm\\auto.py:21: TqdmWarning: IProgress not found. Please update jupyter and ipywidgets. See https://ipywidgets.readthedocs.io/en/stable/user_install.html\n",
      "  from .autonotebook import tqdm as notebook_tqdm\n"
     ]
    }
   ],
   "source": [
    "import os\n",
    "import numpy as np\n",
    "import pandas as pd\n",
    "from ydata_profiling import ProfileReport"
   ]
  },
  {
   "cell_type": "code",
   "execution_count": 3,
   "metadata": {},
   "outputs": [
    {
     "name": "stderr",
     "output_type": "stream",
     "text": [
      "C:\\Users\\Julián Pérez\\AppData\\Local\\Temp\\ipykernel_3860\\1345035411.py:5: DtypeWarning: Columns (36) have mixed types. Specify dtype option on import or set low_memory=False.\n",
      "  df = pd.read_csv(data_path)\n"
     ]
    }
   ],
   "source": [
    "### --------------\n",
    "# Cargando el dataset y generando un reporte de los datos automático con YData profiling\n",
    "data_path = os.path.join(os.getcwd(), \"data\", \"tennis_data.csv\")\n",
    "\n",
    "df = pd.read_csv(data_path)\n",
    "\n",
    "profile = ProfileReport(df, title=\"Profiling Report\")\n",
    "\n",
    "profile.to_file(\"your_report.html\")"
   ]
  },
  {
   "cell_type": "code",
   "execution_count": 6,
   "metadata": {},
   "outputs": [],
   "source": [
    "df = df[[\"Location\", \"Date\", \"Series\", \"Court\", \"Surface\", \"Best of\", \"Winner\", \"Loser\", \"WRank\", \"LRank\", \"WPts\", \"LPts\", \"pl1_flag\", \"pl1_year_pro\", \"pl1_weight\", \"pl1_height\", \"pl1_hand\", \"pl2_flag\", \"pl2_year_pro\", \"pl2_weight\", \"pl2_height\", \"pl2_hand\"]]"
   ]
  },
  {
   "cell_type": "code",
   "execution_count": 9,
   "metadata": {},
   "outputs": [
    {
     "name": "stderr",
     "output_type": "stream",
     "text": [
      "C:\\Users\\Julián Pérez\\AppData\\Local\\Temp\\ipykernel_3860\\1379821321.py:1: SettingWithCopyWarning: \n",
      "A value is trying to be set on a copy of a slice from a DataFrame\n",
      "\n",
      "See the caveats in the documentation: https://pandas.pydata.org/pandas-docs/stable/user_guide/indexing.html#returning-a-view-versus-a-copy\n",
      "  df.dropna(inplace=True)\n"
     ]
    }
   ],
   "source": [
    "df.dropna(inplace=True)"
   ]
  },
  {
   "cell_type": "code",
   "execution_count": 12,
   "metadata": {},
   "outputs": [
    {
     "data": {
      "text/html": [
       "<div>\n",
       "<style scoped>\n",
       "    .dataframe tbody tr th:only-of-type {\n",
       "        vertical-align: middle;\n",
       "    }\n",
       "\n",
       "    .dataframe tbody tr th {\n",
       "        vertical-align: top;\n",
       "    }\n",
       "\n",
       "    .dataframe thead th {\n",
       "        text-align: right;\n",
       "    }\n",
       "</style>\n",
       "<table border=\"1\" class=\"dataframe\">\n",
       "  <thead>\n",
       "    <tr style=\"text-align: right;\">\n",
       "      <th></th>\n",
       "      <th>Location</th>\n",
       "      <th>Date</th>\n",
       "      <th>Series</th>\n",
       "      <th>Court</th>\n",
       "      <th>Surface</th>\n",
       "      <th>Best of</th>\n",
       "      <th>Winner</th>\n",
       "      <th>Loser</th>\n",
       "      <th>WRank</th>\n",
       "      <th>LRank</th>\n",
       "      <th>...</th>\n",
       "      <th>pl1_flag</th>\n",
       "      <th>pl1_year_pro</th>\n",
       "      <th>pl1_weight</th>\n",
       "      <th>pl1_height</th>\n",
       "      <th>pl1_hand</th>\n",
       "      <th>pl2_flag</th>\n",
       "      <th>pl2_year_pro</th>\n",
       "      <th>pl2_weight</th>\n",
       "      <th>pl2_height</th>\n",
       "      <th>pl2_hand</th>\n",
       "    </tr>\n",
       "  </thead>\n",
       "  <tbody>\n",
       "    <tr>\n",
       "      <th>0</th>\n",
       "      <td>Adelaide</td>\n",
       "      <td>2022-01-03</td>\n",
       "      <td>ATP250</td>\n",
       "      <td>Outdoor</td>\n",
       "      <td>Hard</td>\n",
       "      <td>3</td>\n",
       "      <td>Kwon S.W.</td>\n",
       "      <td>Nishioka Y.</td>\n",
       "      <td>53.0</td>\n",
       "      <td>81.0</td>\n",
       "      <td>...</td>\n",
       "      <td>KOR</td>\n",
       "      <td>2015.0</td>\n",
       "      <td>72.0</td>\n",
       "      <td>180.0</td>\n",
       "      <td>Right-Handed</td>\n",
       "      <td>JPN</td>\n",
       "      <td>2014.0</td>\n",
       "      <td>64.0</td>\n",
       "      <td>170.0</td>\n",
       "      <td>Left-Handed</td>\n",
       "    </tr>\n",
       "    <tr>\n",
       "      <th>1</th>\n",
       "      <td>Adelaide</td>\n",
       "      <td>2022-01-03</td>\n",
       "      <td>ATP250</td>\n",
       "      <td>Outdoor</td>\n",
       "      <td>Hard</td>\n",
       "      <td>3</td>\n",
       "      <td>Monteiro T.</td>\n",
       "      <td>Altmaier D.</td>\n",
       "      <td>89.0</td>\n",
       "      <td>84.0</td>\n",
       "      <td>...</td>\n",
       "      <td>BRA</td>\n",
       "      <td>2011.0</td>\n",
       "      <td>78.0</td>\n",
       "      <td>183.0</td>\n",
       "      <td>Left-Handed</td>\n",
       "      <td>GER</td>\n",
       "      <td>2014.0</td>\n",
       "      <td>80.0</td>\n",
       "      <td>188.0</td>\n",
       "      <td>Right-Handed</td>\n",
       "    </tr>\n",
       "    <tr>\n",
       "      <th>2</th>\n",
       "      <td>Adelaide</td>\n",
       "      <td>2022-01-03</td>\n",
       "      <td>ATP250</td>\n",
       "      <td>Outdoor</td>\n",
       "      <td>Hard</td>\n",
       "      <td>3</td>\n",
       "      <td>Djere L.</td>\n",
       "      <td>Carballes Baena R.</td>\n",
       "      <td>52.0</td>\n",
       "      <td>79.0</td>\n",
       "      <td>...</td>\n",
       "      <td>SRB</td>\n",
       "      <td>2013.0</td>\n",
       "      <td>80.0</td>\n",
       "      <td>185.0</td>\n",
       "      <td>Right-Handed</td>\n",
       "      <td>ESP</td>\n",
       "      <td>2011.0</td>\n",
       "      <td>76.0</td>\n",
       "      <td>180.0</td>\n",
       "      <td>Right-Handed</td>\n",
       "    </tr>\n",
       "    <tr>\n",
       "      <th>3</th>\n",
       "      <td>Adelaide</td>\n",
       "      <td>2022-01-03</td>\n",
       "      <td>ATP250</td>\n",
       "      <td>Outdoor</td>\n",
       "      <td>Hard</td>\n",
       "      <td>3</td>\n",
       "      <td>Johnson S.</td>\n",
       "      <td>Vukic A.</td>\n",
       "      <td>85.0</td>\n",
       "      <td>156.0</td>\n",
       "      <td>...</td>\n",
       "      <td>USA</td>\n",
       "      <td>2012.0</td>\n",
       "      <td>86.0</td>\n",
       "      <td>188.0</td>\n",
       "      <td>Right-Handed</td>\n",
       "      <td>AUS</td>\n",
       "      <td>2018.0</td>\n",
       "      <td>85.0</td>\n",
       "      <td>188.0</td>\n",
       "      <td>Right-Handed</td>\n",
       "    </tr>\n",
       "    <tr>\n",
       "      <th>4</th>\n",
       "      <td>Adelaide</td>\n",
       "      <td>2022-01-04</td>\n",
       "      <td>ATP250</td>\n",
       "      <td>Outdoor</td>\n",
       "      <td>Hard</td>\n",
       "      <td>3</td>\n",
       "      <td>Moutet C.</td>\n",
       "      <td>Rune H.</td>\n",
       "      <td>92.0</td>\n",
       "      <td>103.0</td>\n",
       "      <td>...</td>\n",
       "      <td>FRA</td>\n",
       "      <td>2016.0</td>\n",
       "      <td>71.0</td>\n",
       "      <td>175.0</td>\n",
       "      <td>Left-Handed</td>\n",
       "      <td>DEN</td>\n",
       "      <td>2020.0</td>\n",
       "      <td>77.0</td>\n",
       "      <td>188.0</td>\n",
       "      <td>Right-Handed</td>\n",
       "    </tr>\n",
       "  </tbody>\n",
       "</table>\n",
       "<p>5 rows × 22 columns</p>\n",
       "</div>"
      ],
      "text/plain": [
       "   Location        Date  Series    Court Surface  Best of       Winner  \\\n",
       "0  Adelaide  2022-01-03  ATP250  Outdoor    Hard        3    Kwon S.W.   \n",
       "1  Adelaide  2022-01-03  ATP250  Outdoor    Hard        3  Monteiro T.   \n",
       "2  Adelaide  2022-01-03  ATP250  Outdoor    Hard        3     Djere L.   \n",
       "3  Adelaide  2022-01-03  ATP250  Outdoor    Hard        3   Johnson S.   \n",
       "4  Adelaide  2022-01-04  ATP250  Outdoor    Hard        3    Moutet C.   \n",
       "\n",
       "                Loser  WRank  LRank  ...  pl1_flag  pl1_year_pro pl1_weight  \\\n",
       "0         Nishioka Y.   53.0   81.0  ...       KOR        2015.0       72.0   \n",
       "1         Altmaier D.   89.0   84.0  ...       BRA        2011.0       78.0   \n",
       "2  Carballes Baena R.   52.0   79.0  ...       SRB        2013.0       80.0   \n",
       "3            Vukic A.   85.0  156.0  ...       USA        2012.0       86.0   \n",
       "4             Rune H.   92.0  103.0  ...       FRA        2016.0       71.0   \n",
       "\n",
       "   pl1_height      pl1_hand  pl2_flag pl2_year_pro pl2_weight  pl2_height  \\\n",
       "0       180.0  Right-Handed       JPN       2014.0       64.0       170.0   \n",
       "1       183.0   Left-Handed       GER       2014.0       80.0       188.0   \n",
       "2       185.0  Right-Handed       ESP       2011.0       76.0       180.0   \n",
       "3       188.0  Right-Handed       AUS       2018.0       85.0       188.0   \n",
       "4       175.0   Left-Handed       DEN       2020.0       77.0       188.0   \n",
       "\n",
       "       pl2_hand  \n",
       "0   Left-Handed  \n",
       "1  Right-Handed  \n",
       "2  Right-Handed  \n",
       "3  Right-Handed  \n",
       "4  Right-Handed  \n",
       "\n",
       "[5 rows x 22 columns]"
      ]
     },
     "execution_count": 12,
     "metadata": {},
     "output_type": "execute_result"
    }
   ],
   "source": [
    "df.head()"
   ]
  },
  {
   "cell_type": "markdown",
   "metadata": {},
   "source": [
    "#### Busqueda de atipicos"
   ]
  },
  {
   "cell_type": "code",
   "execution_count": 24,
   "metadata": {},
   "outputs": [],
   "source": [
    "### quitando alturas atípicas\n",
    "df = df[~((df[\"pl1_height\"] > 220) |  (df[\"pl1_height\"] < 150) | (df[\"pl2_height\"] > 220) |  (df[\"pl2_height\"] < 150))]"
   ]
  },
  {
   "cell_type": "code",
   "execution_count": 26,
   "metadata": {},
   "outputs": [],
   "source": [
    "### Quitando pesos atípicos\n",
    "df = df[~((df[\"pl1_weight\"] > 120) |  (df[\"pl1_weight\"] < 50) | (df[\"pl2_weight\"] > 120) |  (df[\"pl2_weight\"] < 50))]"
   ]
  },
  {
   "cell_type": "code",
   "execution_count": 27,
   "metadata": {},
   "outputs": [],
   "source": [
    "### Quitando las fechas de pro atipicas\n",
    "df = df[~((df[\"pl1_year_pro\"] > 2023) |  (df[\"pl1_year_pro\"] < 1980) | (df[\"pl2_year_pro\"] > 2023) |  (df[\"pl2_year_pro\"] < 1980))]"
   ]
  },
  {
   "cell_type": "code",
   "execution_count": 31,
   "metadata": {},
   "outputs": [],
   "source": [
    "df[\"year_match\"] = pd.to_datetime(df[\"Date\"]).dt.year"
   ]
  },
  {
   "cell_type": "code",
   "execution_count": 32,
   "metadata": {},
   "outputs": [],
   "source": [
    "### Obtener columna que indica cuantos años lleva siendo profesional el tenista\n",
    "df[\"pl1_professional_time\"] = df[\"year_match\"] - df[\"pl1_year_pro\"]\n",
    "df[\"pl2_professional_time\"] = df[\"year_match\"] - df[\"pl2_year_pro\"]"
   ]
  },
  {
   "cell_type": "code",
   "execution_count": 47,
   "metadata": {},
   "outputs": [],
   "source": [
    "pd_random_values = np.random.randint(0, 2, size=35277)"
   ]
  },
  {
   "cell_type": "code",
   "execution_count": 49,
   "metadata": {},
   "outputs": [],
   "source": [
    "df[\"random_distribution_winner\"] = pd_random_values"
   ]
  },
  {
   "cell_type": "code",
   "execution_count": 51,
   "metadata": {},
   "outputs": [],
   "source": [
    "df_winners = df[df[\"random_distribution_winner\"] == 1]\n",
    "df_losers = df[df[\"random_distribution_winner\"] == 0]"
   ]
  },
  {
   "cell_type": "code",
   "execution_count": 54,
   "metadata": {},
   "outputs": [
    {
     "data": {
      "text/plain": [
       "Index(['Location', 'Date', 'Series', 'Court', 'Surface', 'Best of', 'Winner',\n",
       "       'Loser', 'WRank', 'LRank', 'WPts', 'LPts', 'pl1_flag', 'pl1_year_pro',\n",
       "       'pl1_weight', 'pl1_height', 'pl1_hand', 'pl2_flag', 'pl2_year_pro',\n",
       "       'pl2_weight', 'pl2_height', 'pl2_hand', 'year_match',\n",
       "       'pl1_professional_time', 'pl2_professional_time',\n",
       "       'random_distribution_winner'],\n",
       "      dtype='object')"
      ]
     },
     "execution_count": 54,
     "metadata": {},
     "output_type": "execute_result"
    }
   ],
   "source": [
    "df_winners.columns"
   ]
  },
  {
   "cell_type": "code",
   "execution_count": null,
   "metadata": {},
   "outputs": [],
   "source": [
    "df_players_1 = pd.DataFrame()\n",
    "\n",
    "df_players_1[\"pl1\"] = df_winners[\"Winner\"]\n",
    "df_players_1[\"pl2\"] = df_winners[\"Loser\"]\n",
    "df_players_1[\"pl1_pts\"] = df_winners[\"WPts\"]\n",
    "df_players_1[\"pl2_pts\"] = df_winners[\"LPts\"]\n",
    "df_players_1[\"pl1_flag\"] = df_winners[\"pl1_flag\"]\n",
    "df_players_1[\"pl1_weight\"] = df_winners[\"pl1_weight\"]\n",
    "df_players_1[\"pl1_height\"] = df_winners[\"pl1_height\"]\n",
    "df_players_1[\"pl1_hand\"] = df_winners[\"pl1_hand\"]\n",
    "df_players_1[\"pl2_flag\"] = df_winners[\"pl2_flag\"]\n",
    "df_players_1[\"pl2_year_pro\"] = df_winners[\"pl2_year_pro\"]\n",
    "df_players_1[\"pl2_weight\"] = df_winners[\"pl2_weight\"]\n",
    "df_players_1[\"pl2_height\"] = df_winners[\"pl2_height\"]\n",
    "df_players_1[\"pl2_hand\"] = df_winners[\"pl2_hand\"]\n",
    "df_players_1[\"pl1_professional_time\"] = df_winners[\"pl1_professional_time\"]"
   ]
  }
 ],
 "metadata": {
  "kernelspec": {
   "display_name": ".venv",
   "language": "python",
   "name": "python3"
  },
  "language_info": {
   "codemirror_mode": {
    "name": "ipython",
    "version": 3
   },
   "file_extension": ".py",
   "mimetype": "text/x-python",
   "name": "python",
   "nbconvert_exporter": "python",
   "pygments_lexer": "ipython3",
   "version": "3.12.0"
  }
 },
 "nbformat": 4,
 "nbformat_minor": 2
}
