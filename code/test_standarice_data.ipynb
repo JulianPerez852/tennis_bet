{
 "cells": [
  {
   "cell_type": "code",
   "execution_count": 1,
   "metadata": {},
   "outputs": [],
   "source": [
    "from src.standarice_data import TenisModelHandler\n",
    "import pandas as pd"
   ]
  },
  {
   "cell_type": "code",
   "execution_count": 5,
   "metadata": {},
   "outputs": [
    {
     "name": "stderr",
     "output_type": "stream",
     "text": [
      "<>:2: SyntaxWarning: invalid escape sequence '\\i'\n",
      "<>:2: SyntaxWarning: invalid escape sequence '\\i'\n",
      "C:\\Users\\Julián Pérez\\AppData\\Local\\Temp\\ipykernel_19296\\2379427704.py:2: SyntaxWarning: invalid escape sequence '\\i'\n",
      "  df_train = pd.read_csv('../data\\input\\scraped\\df_games.csv', delimiter='|')\n",
      "g:\\dev\\tennis_bet\\code\\src\\standarice_data.py:304: FutureWarning: A value is trying to be set on a copy of a DataFrame or Series through chained assignment using an inplace method.\n",
      "The behavior will change in pandas 3.0. This inplace method will never work because the intermediate object on which we are setting values always behaves as a copy.\n",
      "\n",
      "For example, when doing 'df[col].method(value, inplace=True)', try using 'df.method({col: value}, inplace=True)' or df[col] = df[col].method(value) instead, to perform the operation inplace on the original object.\n",
      "\n",
      "\n",
      "  player_data['weight'].fillna(mean_values['weight'], inplace=True)\n",
      "g:\\dev\\tennis_bet\\code\\src\\standarice_data.py:305: FutureWarning: A value is trying to be set on a copy of a DataFrame or Series through chained assignment using an inplace method.\n",
      "The behavior will change in pandas 3.0. This inplace method will never work because the intermediate object on which we are setting values always behaves as a copy.\n",
      "\n",
      "For example, when doing 'df[col].method(value, inplace=True)', try using 'df.method({col: value}, inplace=True)' or df[col] = df[col].method(value) instead, to perform the operation inplace on the original object.\n",
      "\n",
      "\n",
      "  player_data['height'].fillna(mean_values['height'], inplace=True)\n",
      "g:\\dev\\tennis_bet\\code\\src\\standarice_data.py:306: FutureWarning: A value is trying to be set on a copy of a DataFrame or Series through chained assignment using an inplace method.\n",
      "The behavior will change in pandas 3.0. This inplace method will never work because the intermediate object on which we are setting values always behaves as a copy.\n",
      "\n",
      "For example, when doing 'df[col].method(value, inplace=True)', try using 'df.method({col: value}, inplace=True)' or df[col] = df[col].method(value) instead, to perform the operation inplace on the original object.\n",
      "\n",
      "\n",
      "  player_data['age'].fillna(mean_values['age'], inplace=True)\n",
      "g:\\dev\\tennis_bet\\code\\src\\standarice_data.py:307: FutureWarning: A value is trying to be set on a copy of a DataFrame or Series through chained assignment using an inplace method.\n",
      "The behavior will change in pandas 3.0. This inplace method will never work because the intermediate object on which we are setting values always behaves as a copy.\n",
      "\n",
      "For example, when doing 'df[col].method(value, inplace=True)', try using 'df.method({col: value}, inplace=True)' or df[col] = df[col].method(value) instead, to perform the operation inplace on the original object.\n",
      "\n",
      "\n",
      "  player_data['year_pro'].fillna(mean_values['year_pro'], inplace=True)\n"
     ]
    },
    {
     "name": "stdout",
     "output_type": "stream",
     "text": [
      "Entrenando xgboost...\n"
     ]
    },
    {
     "name": "stderr",
     "output_type": "stream",
     "text": [
      "g:\\dev\\tennis_bet\\.venv\\Lib\\site-packages\\xgboost\\core.py:158: UserWarning: [22:13:17] WARNING: C:\\buildkite-agent\\builds\\buildkite-windows-cpu-autoscaling-group-i-06abd128ca6c1688d-1\\xgboost\\xgboost-ci-windows\\src\\learner.cc:740: \n",
      "Parameters: { \"use_label_encoder\" } are not used.\n",
      "\n",
      "  warnings.warn(smsg, UserWarning)\n"
     ]
    },
    {
     "name": "stdout",
     "output_type": "stream",
     "text": [
      "Mejores hiperparámetros xgboost: {'model__learning_rate': 0.1, 'model__max_depth': 7, 'model__n_estimators': 200}\n",
      "Accuracy en entrenamiento xgboost: 0.7502\n",
      "Accuracy en prueba para xgboost: 0.7512\n",
      "Reporte de clasificación para xgboost:\n",
      "              precision    recall  f1-score   support\n",
      "\n",
      "           0       0.75      0.75      0.75      8420\n",
      "           1       0.75      0.75      0.75      8472\n",
      "\n",
      "    accuracy                           0.75     16892\n",
      "   macro avg       0.75      0.75      0.75     16892\n",
      "weighted avg       0.75      0.75      0.75     16892\n",
      "\n"
     ]
    }
   ],
   "source": [
    "# Cargar datos de entrenamiento\n",
    "df_train = pd.read_csv('../data\\input\\scraped\\df_games.csv', delimiter='|')\n",
    "\n",
    "# Crear instancia de la clase Preprocessing\n",
    "preprocessor = TenisModelHandler(df_train, models_path='../models')\n",
    "\n",
    "# Preprocesar datos de entrenamiento\n",
    "preprocessor.preprocessing_train()\n",
    "\n",
    "# Entrenar modelos\n",
    "models_to_train = ['xgboost']\n",
    "preprocessor.train_models(models_to_train)"
   ]
  },
  {
   "cell_type": "code",
   "execution_count": 4,
   "metadata": {},
   "outputs": [
    {
     "name": "stdout",
     "output_type": "stream",
     "text": [
      "                  Location  pl1_bet  pl2_bet          pl1_name       pl1_flag  \\\n",
      "1  Gran Canaria challenger     3.03     1.35       Oliveira G.      Venezuela   \n",
      "3  Gran Canaria challenger     1.22     4.00          Mager G.          Italy   \n",
      "4  Gran Canaria challenger     2.20     1.63          Rosol L.  CzechRepublic   \n",
      "5  Gran Canaria challenger     2.21     1.63  Gimeno Valero C.          Spain   \n",
      "6  Gran Canaria challenger     1.76     2.00         Nikles J.    Switzerland   \n",
      "\n",
      "   pl1_year_pro  pl1_weight  pl1_height pl1_hand  pl1_age         pl2_name  \\\n",
      "1        2010.0        79.0       185.0     left     29.0       Bourgue M.   \n",
      "3        2010.0        77.0       188.0    right     29.0  Toledo Bague P.   \n",
      "4        2002.0        83.0       193.0    right     39.0     Giannessi A.   \n",
      "5        2016.0        80.0       188.0    right     23.0        Skatov T.   \n",
      "6        2013.0        68.0       170.0    right     27.0          Gaio F.   \n",
      "\n",
      "     pl2_flag  pl2_year_pro  pl2_weight  pl2_height pl2_hand  pl2_age Surface  \\\n",
      "1      France        2010.0        83.0       188.0    right     30.0    clay   \n",
      "3       Spain        2010.0        72.0       178.0    right     29.0    clay   \n",
      "4       Italy        2006.0        82.0       185.0     left     34.0    clay   \n",
      "5  Kazakhstan        2016.0        73.0       173.0    right     23.0    clay   \n",
      "6       Italy        2008.0        84.0       180.0    right     32.0    clay   \n",
      "\n",
      "       Date winner_prediction  \n",
      "1  20220301               pl2  \n",
      "3  20220301               pl1  \n",
      "4  20220301               pl2  \n",
      "5  20220301               pl2  \n",
      "6  20220301               pl1  \n"
     ]
    }
   ],
   "source": [
    "# Cargar nuevos datos para predicción\n",
    "df_new = pd.read_csv('../data/input/scraped/df_testing.csv', delimiter='|')\n",
    "\n",
    "# Crear instancia de la clase Preprocessing\n",
    "preprocessor = TenisModelHandler(df_new, models_path='../models')\n",
    "\n",
    "# Generar predicciones con el modelo deseado\n",
    "resultado = preprocessor.predict_values('xgboost')\n",
    "\n",
    "# Mostrar el DataFrame con las predicciones\n",
    "print(resultado.head())"
   ]
  }
 ],
 "metadata": {
  "kernelspec": {
   "display_name": ".venv",
   "language": "python",
   "name": "python3"
  },
  "language_info": {
   "codemirror_mode": {
    "name": "ipython",
    "version": 3
   },
   "file_extension": ".py",
   "mimetype": "text/x-python",
   "name": "python",
   "nbconvert_exporter": "python",
   "pygments_lexer": "ipython3",
   "version": "3.12.0"
  }
 },
 "nbformat": 4,
 "nbformat_minor": 2
}
