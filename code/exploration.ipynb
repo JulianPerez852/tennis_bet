{
 "cells": [
  {
   "cell_type": "code",
   "execution_count": 3,
   "metadata": {},
   "outputs": [],
   "source": [
    "# Libraries\n",
    "# =================\n",
    "import os\n",
    "import pandas as pd\n",
    "\n",
    "# Parameters\n",
    "# =================\n",
    "from src.parameters import Parameters\n",
    "\n",
    "# Data\n",
    "# =================\n",
    "from src.data_clean import get_data\n",
    "from src.data_ranking import atp_ranking_last_date\n",
    "from src.data_scrapped_clean import scrapped_data_organized\n",
    "\n",
    "# Scrapping\n",
    "# =================\n",
    "from src.scrapping import scrapping_tennis_data\n",
    "\n",
    "\n",
    "# Classification\n",
    "# =================\n",
    "from src.class_preprocessing import data_to_class\n",
    "from src.class_classification import train_classification, fn_classification\n",
    "from sklearn.metrics import classification_report\n",
    "\n",
    "# Risk\n",
    "# =================\n",
    "from src.risk_analysis import risk_analysis_montecarlo\n",
    "\n",
    "# Warnings\n",
    "# =================\n",
    "import warnings\n",
    "warnings.filterwarnings(\"ignore\")"
   ]
  },
  {
   "cell_type": "code",
   "execution_count": 2,
   "metadata": {},
   "outputs": [],
   "source": [
    "# Train\n",
    "# =================\n",
    "df_raw = pd.read_csv(os.path.join(Parameters.train_path, Parameters.nombre_archivo_raw))\n",
    "df_bronze, df_silver, df_gold = get_data(df_raw, \n",
    "                                        True, \n",
    "                                        Parameters.train_path, \n",
    "                                        Parameters.nombre_archivo_gold)\n",
    "\n",
    "X, y, preprocessor = data_to_class(df_gold)\n",
    "train_classification(X, y, preprocessor, Parameters.results_path, Parameters.models_path)"
   ]
  },
  {
   "cell_type": "code",
   "execution_count": 13,
   "metadata": {},
   "outputs": [],
   "source": [
    "year, month, day= '2022', '03', '05'\n",
    "n_date = f'{year}-{month}-{day}'"
   ]
  },
  {
   "cell_type": "code",
   "execution_count": null,
   "metadata": {},
   "outputs": [],
   "source": [
    "df_games_of_day, df_games_acum = scrapping_tennis_data(year,month,day,\n",
    "                                                    Parameters.req_headers,\n",
    "                                                    Parameters.scraped_path, \n",
    "                                                    Parameters.file_match_result, \n",
    "                                                    Parameters.file_fields_desc,\n",
    "                                                    Parameters.file_players_desc,\n",
    "                                                    Parameters.file_games, \n",
    "                                                    Parameters.daily_dump_path)"
   ]
  },
  {
   "cell_type": "code",
   "execution_count": 3,
   "metadata": {},
   "outputs": [],
   "source": [
    "# Pred\n",
    "# =================\n",
    "atp_all = atp_ranking_last_date(Parameters.utils_path, \"atp_mens_tour\", {n_date})\n",
    "df_fply, df_fply_bronze, df_fply_silver, df_fply_gold = scrapped_data_organized(df_games_of_day,\n",
    "                                                                                Parameters.utils_path, \n",
    "                                                                                Parameters.daily_dump_path,\n",
    "                                                                                Parameters.file_paises,\n",
    "                                                                                f'df_games_cleaned_{n_date}.csv',\n",
    "                                                                                atp_all)\n",
    "\n",
    "# df_to_pred                              = pd.read_csv(os.path.join(results_path, file_data_scrapped_cleaned))\n",
    "df_to_pred                              = df_fply.copy()\n",
    "X, y, preprocessor                      = data_to_class(df_to_pred)\n",
    "df_class, df_class_consolidate          = fn_classification(df_to_pred, X)\n",
    "\n",
    "reporte_clasificacion = pd.DataFrame(classification_report(df_class['Result'], df_class['Class'], output_dict=True))"
   ]
  },
  {
   "cell_type": "code",
   "execution_count": 6,
   "metadata": {},
   "outputs": [
    {
     "name": "stdout",
     "output_type": "stream",
     "text": [
      "Análisis completado. Revisa el archivo 'betting_analysis.xlsx' para ver los resultados.\n"
     ]
    }
   ],
   "source": [
    "# Risk\n",
    "# =================\n",
    "df_risk, monte_carlo_results, monte_carlo_summary = risk_analysis_montecarlo(df_class,\n",
    "                                                                            Parameters.risk_free_rate, \n",
    "                                                                            Parameters.risk_tolerance, \n",
    "                                                                            Parameters.total_money, \n",
    "                                                                            Parameters.num_simulations, \n",
    "                                                                            Parameters.num_bets,\n",
    "                                                                            Parameters.plots_path,\n",
    "                                                                            Parameters.results_path,\n",
    "                                                                            f'{Parameters.name_monte_carlo_dist}_{n_date}.png',\n",
    "                                                                            f'{Parameters.name_ev_comparation}_{n_date}.png',\n",
    "                                                                            f'{Parameters.name_sharpe_ratio_comparison}_{n_date}.png',\n",
    "                                                                            f'{Parameters.file_betting_analysis}_{n_date}.xlsx')"
   ]
  }
 ],
 "metadata": {
  "kernelspec": {
   "display_name": ".venv",
   "language": "python",
   "name": "python3"
  },
  "language_info": {
   "codemirror_mode": {
    "name": "ipython",
    "version": 3
   },
   "file_extension": ".py",
   "mimetype": "text/x-python",
   "name": "python",
   "nbconvert_exporter": "python",
   "pygments_lexer": "ipython3",
   "version": "3.10.8"
  }
 },
 "nbformat": 4,
 "nbformat_minor": 2
}
