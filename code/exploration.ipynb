{
 "cells": [
  {
   "cell_type": "markdown",
   "metadata": {},
   "source": [
    "#### EDA Data Tenis"
   ]
  },
  {
   "cell_type": "code",
   "execution_count": 1,
   "metadata": {},
   "outputs": [],
   "source": [
    "import os\n",
    "import numpy as np\n",
    "import pandas as pd\n",
    "from ydata_profiling import ProfileReport\n",
    "from src.parameters import Parameters"
   ]
  },
  {
   "cell_type": "code",
   "execution_count": 2,
   "metadata": {},
   "outputs": [
    {
     "name": "stderr",
     "output_type": "stream",
     "text": [
      "C:\\Users\\jmoscoso04\\AppData\\Local\\Temp\\ipykernel_37640\\2369202450.py:6: DtypeWarning: Columns (36) have mixed types. Specify dtype option on import or set low_memory=False.\n",
      "  df = pd.read_csv(data_path)\n"
     ]
    }
   ],
   "source": [
    "### --------------\n",
    "# Cargando el dataset y generando un reporte de los datos automático con YData profiling\n",
    "\n",
    "data_path = os.path.join(Parameters.input_path,\"tennis_data.csv\")\n",
    "\n",
    "df = pd.read_csv(data_path)\n",
    "\n",
    "# profile = ProfileReport(df, title=\"Profiling Report\")\n",
    "\n",
    "# profile.to_file(\"your_report.html\")"
   ]
  },
  {
   "cell_type": "code",
   "execution_count": 3,
   "metadata": {},
   "outputs": [],
   "source": [
    "# df = df.drop(columns=['Court','Location',\"Series\",'Winner','Loser','Best of','WRank',LRank\"])\n",
    "\n",
    "df = df[[ \"Date\"\n",
    "        , \"Surface\"\n",
    "        , \"WPts\"\n",
    "        , \"LPts\"\n",
    "        , \"pl1_flag\"\n",
    "        , \"pl1_year_pro\"\n",
    "        , \"pl1_weight\"\n",
    "        , \"pl1_height\"\n",
    "        , \"pl1_hand\"\n",
    "        , \"pl2_flag\"\n",
    "        , \"pl2_year_pro\"\n",
    "        , \"pl2_weight\"\n",
    "        , \"pl2_height\"\n",
    "        , \"pl2_hand\"]]\n",
    "\n",
    "df.dropna(inplace=True)\n",
    "df['Result'] = 0\n",
    "df = df.rename(columns={'WPts':'pl1_pts', \n",
    "                        'LPts':'pl2_pts',})\n"
   ]
  },
  {
   "cell_type": "markdown",
   "metadata": {},
   "source": [
    "#### Busqueda de atipicos"
   ]
  },
  {
   "cell_type": "code",
   "execution_count": 4,
   "metadata": {},
   "outputs": [],
   "source": [
    "### quitando alturas atípicas\n",
    "df = df[~((df[\"pl1_height\"] > 220) |  (df[\"pl1_height\"] < 150) | (df[\"pl2_height\"] > 220) |  (df[\"pl2_height\"] < 150))]\n",
    "\n",
    "### Quitando pesos atípicos\n",
    "df = df[~((df[\"pl1_weight\"] > 120) |  (df[\"pl1_weight\"] < 50) | (df[\"pl2_weight\"] > 120) |  (df[\"pl2_weight\"] < 50))]\n",
    "\n",
    "### Quitando las fechas de pro atipicas\n",
    "df = df[~((df[\"pl1_year_pro\"] > 2023) |  (df[\"pl1_year_pro\"] < 1980) | (df[\"pl2_year_pro\"] > 2023) |  (df[\"pl2_year_pro\"] < 1980))]"
   ]
  },
  {
   "cell_type": "code",
   "execution_count": 5,
   "metadata": {},
   "outputs": [],
   "source": [
    "df_p1 = df.copy()\n",
    "\n",
    "df_p2 = pd.DataFrame()\n",
    "\n",
    "df_p2[\"Date\"] = df[\"Date\"]\n",
    "df_p2[\"Surface\"] = df[\"Surface\"]\n",
    "# df_p2[\"pl1\"] = df[\"Loser\"]\n",
    "# df_p2[\"pl2\"] = df[\"Winner\"]\n",
    "df_p2[\"pl1_pts\"] = df[\"pl2_pts\"]\n",
    "df_p2[\"pl2_pts\"] = df[\"pl1_pts\"]\n",
    "df_p2[\"pl1_flag\"] = df[\"pl2_flag\"]\n",
    "df_p2[\"pl1_year_pro\"] = df[\"pl2_year_pro\"]\n",
    "df_p2[\"pl1_weight\"] = df[\"pl2_weight\"]\n",
    "df_p2[\"pl1_height\"] = df[\"pl2_height\"]\n",
    "df_p2[\"pl1_hand\"] = df[\"pl2_hand\"]\n",
    "df_p2[\"pl2_flag\"] = df[\"pl1_flag\"]\n",
    "df_p2[\"pl2_year_pro\"] = df[\"pl1_year_pro\"]\n",
    "df_p2[\"pl2_weight\"] = df[\"pl1_weight\"]\n",
    "df_p2[\"pl2_height\"] = df[\"pl1_height\"]\n",
    "df_p2[\"pl2_hand\"] = df[\"pl1_hand\"]\n",
    "df_p2[\"Result\"] = 1\n",
    "\n",
    "df_all = pd.concat([df_p1, df_p2], axis = 0 )"
   ]
  },
  {
   "cell_type": "code",
   "execution_count": 6,
   "metadata": {},
   "outputs": [],
   "source": [
    "### Obtener columna que indica cuantos años lleva siendo profesional el tenista\n",
    "df_all[\"pl1_professional_time\"] = pd.to_datetime(df_all[\"Date\"]).dt.year - df_all[\"pl1_year_pro\"]\n",
    "df_all[\"pl2_professional_time\"] = pd.to_datetime(df_all[\"Date\"]).dt.year - df_all[\"pl2_year_pro\"]\n",
    "\n",
    "df_all['DiffProffTime'] = df_all[\"pl1_professional_time\"] - df_all['pl2_professional_time']\n",
    "df_all['DiffPts'] = df_all[\"pl1_pts\"] - df_all['pl2_pts']\n",
    "df_all['DiffWeight'] = df_all[\"pl1_weight\"] - df_all['pl2_weight']\n",
    "df_all['DiffHeight'] = df_all[\"pl1_height\"] - df_all['pl2_height']\n",
    "\n",
    "df_all = df_all.drop(columns=['Date','pl1_pts','pl2_pts','pl1_year_pro','pl2_year_pro','pl1_professional_time','pl2_professional_time',\n",
    "                      'pl1_weight','pl1_height','pl2_weight','pl2_height'] )\n"
   ]
  },
  {
   "cell_type": "code",
   "execution_count": 13,
   "metadata": {},
   "outputs": [],
   "source": [
    "df_all_players = df_all.sample(frac=1).reset_index(drop=True)\n",
    "df_all_players.to_excel(os.path.join(Parameters.results_path,\"tennis_data_cleaned.xlsx\"), index = False)"
   ]
  },
  {
   "cell_type": "code",
   "execution_count": 14,
   "metadata": {},
   "outputs": [
    {
     "name": "stdout",
     "output_type": "stream",
     "text": [
      "0:\tlearn: 0.6917349\ttotal: 132ms\tremaining: 13.1s\n",
      "1:\tlearn: 0.6903619\ttotal: 148ms\tremaining: 7.23s\n",
      "2:\tlearn: 0.6889745\ttotal: 163ms\tremaining: 5.27s\n",
      "3:\tlearn: 0.6875944\ttotal: 179ms\tremaining: 4.29s\n",
      "4:\tlearn: 0.6863502\ttotal: 194ms\tremaining: 3.69s\n",
      "5:\tlearn: 0.6850551\ttotal: 211ms\tremaining: 3.31s\n",
      "6:\tlearn: 0.6837964\ttotal: 228ms\tremaining: 3.02s\n",
      "7:\tlearn: 0.6825848\ttotal: 245ms\tremaining: 2.81s\n",
      "8:\tlearn: 0.6813092\ttotal: 265ms\tremaining: 2.68s\n",
      "9:\tlearn: 0.6801019\ttotal: 284ms\tremaining: 2.55s\n",
      "10:\tlearn: 0.6789704\ttotal: 301ms\tremaining: 2.43s\n",
      "11:\tlearn: 0.6778217\ttotal: 319ms\tremaining: 2.34s\n",
      "12:\tlearn: 0.6767386\ttotal: 338ms\tremaining: 2.26s\n",
      "13:\tlearn: 0.6756391\ttotal: 356ms\tremaining: 2.18s\n",
      "14:\tlearn: 0.6746175\ttotal: 375ms\tremaining: 2.12s\n",
      "15:\tlearn: 0.6735724\ttotal: 398ms\tremaining: 2.09s\n",
      "16:\tlearn: 0.6725316\ttotal: 419ms\tremaining: 2.05s\n",
      "17:\tlearn: 0.6714901\ttotal: 490ms\tremaining: 2.23s\n",
      "18:\tlearn: 0.6705396\ttotal: 517ms\tremaining: 2.2s\n",
      "19:\tlearn: 0.6695476\ttotal: 534ms\tremaining: 2.14s\n",
      "20:\tlearn: 0.6685952\ttotal: 553ms\tremaining: 2.08s\n",
      "21:\tlearn: 0.6676091\ttotal: 569ms\tremaining: 2.02s\n",
      "22:\tlearn: 0.6666410\ttotal: 585ms\tremaining: 1.96s\n",
      "23:\tlearn: 0.6657556\ttotal: 602ms\tremaining: 1.91s\n",
      "24:\tlearn: 0.6648663\ttotal: 619ms\tremaining: 1.86s\n",
      "25:\tlearn: 0.6639951\ttotal: 636ms\tremaining: 1.81s\n",
      "26:\tlearn: 0.6631195\ttotal: 654ms\tremaining: 1.77s\n",
      "27:\tlearn: 0.6623402\ttotal: 671ms\tremaining: 1.72s\n",
      "28:\tlearn: 0.6615361\ttotal: 689ms\tremaining: 1.69s\n",
      "29:\tlearn: 0.6607743\ttotal: 707ms\tremaining: 1.65s\n",
      "30:\tlearn: 0.6600201\ttotal: 722ms\tremaining: 1.61s\n",
      "31:\tlearn: 0.6592644\ttotal: 738ms\tremaining: 1.57s\n",
      "32:\tlearn: 0.6584969\ttotal: 755ms\tremaining: 1.53s\n",
      "33:\tlearn: 0.6577809\ttotal: 772ms\tremaining: 1.5s\n",
      "34:\tlearn: 0.6570436\ttotal: 790ms\tremaining: 1.47s\n",
      "35:\tlearn: 0.6562910\ttotal: 808ms\tremaining: 1.44s\n",
      "36:\tlearn: 0.6556001\ttotal: 825ms\tremaining: 1.4s\n",
      "37:\tlearn: 0.6549970\ttotal: 842ms\tremaining: 1.37s\n",
      "38:\tlearn: 0.6542836\ttotal: 858ms\tremaining: 1.34s\n",
      "39:\tlearn: 0.6536390\ttotal: 875ms\tremaining: 1.31s\n",
      "40:\tlearn: 0.6529590\ttotal: 891ms\tremaining: 1.28s\n",
      "41:\tlearn: 0.6523012\ttotal: 907ms\tremaining: 1.25s\n",
      "42:\tlearn: 0.6517163\ttotal: 928ms\tremaining: 1.23s\n",
      "43:\tlearn: 0.6511103\ttotal: 949ms\tremaining: 1.21s\n",
      "44:\tlearn: 0.6504848\ttotal: 967ms\tremaining: 1.18s\n",
      "45:\tlearn: 0.6498521\ttotal: 983ms\tremaining: 1.15s\n",
      "46:\tlearn: 0.6492480\ttotal: 1000ms\tremaining: 1.13s\n",
      "47:\tlearn: 0.6487004\ttotal: 1.02s\tremaining: 1.1s\n",
      "48:\tlearn: 0.6481417\ttotal: 1.03s\tremaining: 1.07s\n",
      "49:\tlearn: 0.6475893\ttotal: 1.05s\tremaining: 1.05s\n",
      "50:\tlearn: 0.6470864\ttotal: 1.06s\tremaining: 1.02s\n",
      "51:\tlearn: 0.6465512\ttotal: 1.08s\tremaining: 998ms\n",
      "52:\tlearn: 0.6460287\ttotal: 1.1s\tremaining: 972ms\n",
      "53:\tlearn: 0.6454956\ttotal: 1.11s\tremaining: 949ms\n",
      "54:\tlearn: 0.6450206\ttotal: 1.13s\tremaining: 925ms\n",
      "55:\tlearn: 0.6445041\ttotal: 1.15s\tremaining: 900ms\n",
      "56:\tlearn: 0.6440529\ttotal: 1.16s\tremaining: 876ms\n",
      "57:\tlearn: 0.6435777\ttotal: 1.18s\tremaining: 853ms\n",
      "58:\tlearn: 0.6431798\ttotal: 1.2s\tremaining: 831ms\n",
      "59:\tlearn: 0.6427515\ttotal: 1.21s\tremaining: 809ms\n",
      "60:\tlearn: 0.6422943\ttotal: 1.23s\tremaining: 785ms\n",
      "61:\tlearn: 0.6418228\ttotal: 1.25s\tremaining: 763ms\n",
      "62:\tlearn: 0.6413666\ttotal: 1.26s\tremaining: 741ms\n",
      "63:\tlearn: 0.6409688\ttotal: 1.28s\tremaining: 719ms\n",
      "64:\tlearn: 0.6405599\ttotal: 1.29s\tremaining: 696ms\n",
      "65:\tlearn: 0.6401207\ttotal: 1.31s\tremaining: 674ms\n",
      "66:\tlearn: 0.6397651\ttotal: 1.32s\tremaining: 652ms\n",
      "67:\tlearn: 0.6393853\ttotal: 1.34s\tremaining: 630ms\n",
      "68:\tlearn: 0.6390117\ttotal: 1.35s\tremaining: 609ms\n",
      "69:\tlearn: 0.6386413\ttotal: 1.37s\tremaining: 588ms\n",
      "70:\tlearn: 0.6382840\ttotal: 1.39s\tremaining: 567ms\n",
      "71:\tlearn: 0.6379613\ttotal: 1.41s\tremaining: 547ms\n",
      "72:\tlearn: 0.6376263\ttotal: 1.42s\tremaining: 526ms\n",
      "73:\tlearn: 0.6372956\ttotal: 1.44s\tremaining: 505ms\n",
      "74:\tlearn: 0.6369626\ttotal: 1.46s\tremaining: 485ms\n",
      "75:\tlearn: 0.6366182\ttotal: 1.48s\tremaining: 466ms\n",
      "76:\tlearn: 0.6362720\ttotal: 1.49s\tremaining: 445ms\n",
      "77:\tlearn: 0.6359883\ttotal: 1.51s\tremaining: 425ms\n",
      "78:\tlearn: 0.6356928\ttotal: 1.52s\tremaining: 405ms\n",
      "79:\tlearn: 0.6353951\ttotal: 1.54s\tremaining: 384ms\n",
      "80:\tlearn: 0.6350924\ttotal: 1.55s\tremaining: 364ms\n",
      "81:\tlearn: 0.6348198\ttotal: 1.57s\tremaining: 345ms\n",
      "82:\tlearn: 0.6345551\ttotal: 1.59s\tremaining: 325ms\n",
      "83:\tlearn: 0.6342479\ttotal: 1.61s\tremaining: 307ms\n",
      "84:\tlearn: 0.6339331\ttotal: 1.63s\tremaining: 288ms\n",
      "85:\tlearn: 0.6336585\ttotal: 1.65s\tremaining: 268ms\n",
      "86:\tlearn: 0.6333861\ttotal: 1.66s\tremaining: 249ms\n",
      "87:\tlearn: 0.6331599\ttotal: 1.68s\tremaining: 229ms\n",
      "88:\tlearn: 0.6328998\ttotal: 1.7s\tremaining: 210ms\n",
      "89:\tlearn: 0.6326502\ttotal: 1.72s\tremaining: 191ms\n",
      "90:\tlearn: 0.6324080\ttotal: 1.73s\tremaining: 171ms\n",
      "91:\tlearn: 0.6321471\ttotal: 1.75s\tremaining: 152ms\n",
      "92:\tlearn: 0.6319029\ttotal: 1.76s\tremaining: 133ms\n",
      "93:\tlearn: 0.6316609\ttotal: 1.78s\tremaining: 113ms\n",
      "94:\tlearn: 0.6314169\ttotal: 1.79s\tremaining: 94.5ms\n",
      "95:\tlearn: 0.6312079\ttotal: 1.81s\tremaining: 75.5ms\n",
      "96:\tlearn: 0.6309762\ttotal: 1.83s\tremaining: 56.6ms\n",
      "97:\tlearn: 0.6307630\ttotal: 1.85s\tremaining: 37.7ms\n",
      "98:\tlearn: 0.6305548\ttotal: 1.86s\tremaining: 18.8ms\n",
      "99:\tlearn: 0.6303314\ttotal: 1.88s\tremaining: 0us\n"
     ]
    },
    {
     "ename": "ImportError",
     "evalue": "Pandas requires version '3.1.0' or newer of 'openpyxl' (version '3.0.10' currently installed).",
     "output_type": "error",
     "traceback": [
      "\u001b[1;31m---------------------------------------------------------------------------\u001b[0m",
      "\u001b[1;31mImportError\u001b[0m                               Traceback (most recent call last)",
      "Cell \u001b[1;32mIn[14], line 19\u001b[0m\n\u001b[0;32m     15\u001b[0m \u001b[38;5;66;03m# Train\u001b[39;00m\n\u001b[0;32m     16\u001b[0m \u001b[38;5;66;03m# =================\u001b[39;00m\n\u001b[0;32m     17\u001b[0m \u001b[38;5;66;03m# df_variables    = pd.read_csv(os.path.join(Parameters.input_path, 'dataset_alpha_betha.csv'))\u001b[39;00m\n\u001b[0;32m     18\u001b[0m X, y            \u001b[38;5;241m=\u001b[39m data_to_class(df_all_players)\n\u001b[1;32m---> 19\u001b[0m \u001b[43mtrain_classification\u001b[49m\u001b[43m(\u001b[49m\u001b[43mX\u001b[49m\u001b[43m,\u001b[49m\u001b[43m \u001b[49m\u001b[43my\u001b[49m\u001b[43m)\u001b[49m\n\u001b[0;32m     21\u001b[0m \u001b[38;5;66;03m# # Process\u001b[39;00m\n\u001b[0;32m     22\u001b[0m \u001b[38;5;66;03m# # =================\u001b[39;00m\n\u001b[0;32m     23\u001b[0m \u001b[38;5;66;03m# df_to_pred      = pd.read_csv(os.path.join(Parameters.input_path, 'to_predict.csv'))\u001b[39;00m\n\u001b[1;32m   (...)\u001b[0m\n\u001b[0;32m     26\u001b[0m \u001b[38;5;66;03m# X, y            = data_to_class(df_to_pred)\u001b[39;00m\n\u001b[0;32m     27\u001b[0m \u001b[38;5;66;03m# df_class, df_class_consolidate        = fn_classification(df_to_pred, X)\u001b[39;00m\n",
      "File \u001b[1;32mc:\\Users\\jmoscoso04\\OneDrive - Cementos Argos S.A\\Documentos\\Proyectos\\sports_bets\\tennis_bet\\code\\src\\class_classification.py:24\u001b[0m, in \u001b[0;36mtrain_classification\u001b[1;34m(X_vect, y_encoded)\u001b[0m\n\u001b[0;32m     18\u001b[0m \u001b[38;5;66;03m# Escalado de Características\u001b[39;00m\n\u001b[0;32m     19\u001b[0m \u001b[38;5;66;03m# scaler = StandardScaler()\u001b[39;00m\n\u001b[0;32m     20\u001b[0m \u001b[38;5;66;03m# X_train = scaler.fit_transform(X_train)\u001b[39;00m\n\u001b[0;32m     21\u001b[0m \u001b[38;5;66;03m# X_test = scaler.transform(X_test)\u001b[39;00m\n\u001b[0;32m     23\u001b[0m dict_models, dict_pred, dict_metrics \u001b[38;5;241m=\u001b[39m evaluate_models_classification(X_train, X_test, y_train, y_test)\n\u001b[1;32m---> 24\u001b[0m _winner_metrics, model \u001b[38;5;241m=\u001b[39m \u001b[43mclass_competition\u001b[49m\u001b[43m(\u001b[49m\u001b[43mdict_models\u001b[49m\u001b[43m,\u001b[49m\u001b[43m \u001b[49m\u001b[43mdict_pred\u001b[49m\u001b[43m,\u001b[49m\u001b[43m \u001b[49m\u001b[43mdict_metrics\u001b[49m\u001b[43m)\u001b[49m\n\u001b[0;32m     25\u001b[0m bm \u001b[38;5;241m=\u001b[39m _winner_metrics\u001b[38;5;241m.\u001b[39mpop(\u001b[38;5;124m'\u001b[39m\u001b[38;5;124mmodel_name\u001b[39m\u001b[38;5;124m'\u001b[39m)\n",
      "File \u001b[1;32mc:\\Users\\jmoscoso04\\OneDrive - Cementos Argos S.A\\Documentos\\Proyectos\\sports_bets\\tennis_bet\\code\\src\\class_competition.py:99\u001b[0m, in \u001b[0;36mclass_competition\u001b[1;34m(dict_models, dict_pred, dict_metrics)\u001b[0m\n\u001b[0;32m     89\u001b[0m         best_model \u001b[38;5;241m=\u001b[39m model\n\u001b[0;32m     91\u001b[0m winner_metrics \u001b[38;5;241m=\u001b[39m {\u001b[38;5;124m'\u001b[39m\u001b[38;5;124mmodel_name\u001b[39m\u001b[38;5;124m'\u001b[39m:best_model,\n\u001b[0;32m     92\u001b[0m                     \u001b[38;5;124m'\u001b[39m\u001b[38;5;124mprecision\u001b[39m\u001b[38;5;124m'\u001b[39m: [best_precision], \n\u001b[0;32m     93\u001b[0m                     \u001b[38;5;124m'\u001b[39m\u001b[38;5;124mrecall\u001b[39m\u001b[38;5;124m'\u001b[39m : [best_recall], \n\u001b[1;32m   (...)\u001b[0m\n\u001b[0;32m     96\u001b[0m                     \u001b[38;5;124m'\u001b[39m\u001b[38;5;124mtest\u001b[39m\u001b[38;5;124m'\u001b[39m: [dict_pred[\u001b[38;5;124m'\u001b[39m\u001b[38;5;124mtest\u001b[39m\u001b[38;5;124m'\u001b[39m]],\n\u001b[0;32m     97\u001b[0m                 }\n\u001b[1;32m---> 99\u001b[0m \u001b[43msave_winner_metrics\u001b[49m\u001b[43m(\u001b[49m\u001b[43mwinner_metrics\u001b[49m\u001b[43m,\u001b[49m\u001b[43m \u001b[49m\u001b[43mParameters\u001b[49m\u001b[38;5;241;43m.\u001b[39;49m\u001b[43mresults_path\u001b[49m\u001b[43m,\u001b[49m\u001b[43m \u001b[49m\u001b[38;5;124;43m'\u001b[39;49m\u001b[38;5;124;43mclassification\u001b[39;49m\u001b[38;5;124;43m'\u001b[39;49m\u001b[43m)\u001b[49m\n\u001b[0;32m    101\u001b[0m model \u001b[38;5;241m=\u001b[39m dict_models[best_model]\n\u001b[0;32m    103\u001b[0m save_model(model, Parameters\u001b[38;5;241m.\u001b[39mmodels_path, best_model)\n",
      "File \u001b[1;32mc:\\Users\\jmoscoso04\\OneDrive - Cementos Argos S.A\\Documentos\\Proyectos\\sports_bets\\tennis_bet\\code\\src\\save_results.py:52\u001b[0m, in \u001b[0;36msave_winner_metrics\u001b[1;34m(winner_metrics, results_path, stage)\u001b[0m\n\u001b[0;32m     49\u001b[0m \u001b[38;5;28;01melif\u001b[39;00m stage \u001b[38;5;241m==\u001b[39m \u001b[38;5;124m'\u001b[39m\u001b[38;5;124mregression\u001b[39m\u001b[38;5;124m'\u001b[39m:\n\u001b[0;32m     50\u001b[0m     name_file \u001b[38;5;241m=\u001b[39m \u001b[38;5;124m'\u001b[39m\u001b[38;5;124mwinner_metrics_pred.xlsx\u001b[39m\u001b[38;5;124m'\u001b[39m\n\u001b[1;32m---> 52\u001b[0m winner_metrics_temp \u001b[38;5;241m=\u001b[39m \u001b[43mpd\u001b[49m\u001b[38;5;241;43m.\u001b[39;49m\u001b[43mread_excel\u001b[49m\u001b[43m(\u001b[49m\u001b[43mos\u001b[49m\u001b[38;5;241;43m.\u001b[39;49m\u001b[43mpath\u001b[49m\u001b[38;5;241;43m.\u001b[39;49m\u001b[43mjoin\u001b[49m\u001b[43m(\u001b[49m\u001b[43mresults_path\u001b[49m\u001b[43m,\u001b[49m\u001b[43m \u001b[49m\u001b[43mname_file\u001b[49m\u001b[43m)\u001b[49m\u001b[43m)\u001b[49m\n\u001b[0;32m     53\u001b[0m winner_metrics_temp \u001b[38;5;241m=\u001b[39m pd\u001b[38;5;241m.\u001b[39mconcat([winner_metrics_temp, pd\u001b[38;5;241m.\u001b[39mDataFrame(winner_metrics)], axis \u001b[38;5;241m=\u001b[39m \u001b[38;5;241m0\u001b[39m)\n\u001b[0;32m     54\u001b[0m winner_metrics_temp\u001b[38;5;241m.\u001b[39mto_excel(os\u001b[38;5;241m.\u001b[39mpath\u001b[38;5;241m.\u001b[39mjoin(results_path, name_file), index\u001b[38;5;241m=\u001b[39m\u001b[38;5;28;01mFalse\u001b[39;00m)\n",
      "File \u001b[1;32mc:\\Users\\jmoscoso04\\AppData\\Local\\Programs\\Python\\Python310\\lib\\site-packages\\pandas\\io\\excel\\_base.py:495\u001b[0m, in \u001b[0;36mread_excel\u001b[1;34m(io, sheet_name, header, names, index_col, usecols, dtype, engine, converters, true_values, false_values, skiprows, nrows, na_values, keep_default_na, na_filter, verbose, parse_dates, date_parser, date_format, thousands, decimal, comment, skipfooter, storage_options, dtype_backend, engine_kwargs)\u001b[0m\n\u001b[0;32m    493\u001b[0m \u001b[38;5;28;01mif\u001b[39;00m \u001b[38;5;129;01mnot\u001b[39;00m \u001b[38;5;28misinstance\u001b[39m(io, ExcelFile):\n\u001b[0;32m    494\u001b[0m     should_close \u001b[38;5;241m=\u001b[39m \u001b[38;5;28;01mTrue\u001b[39;00m\n\u001b[1;32m--> 495\u001b[0m     io \u001b[38;5;241m=\u001b[39m \u001b[43mExcelFile\u001b[49m\u001b[43m(\u001b[49m\n\u001b[0;32m    496\u001b[0m \u001b[43m        \u001b[49m\u001b[43mio\u001b[49m\u001b[43m,\u001b[49m\n\u001b[0;32m    497\u001b[0m \u001b[43m        \u001b[49m\u001b[43mstorage_options\u001b[49m\u001b[38;5;241;43m=\u001b[39;49m\u001b[43mstorage_options\u001b[49m\u001b[43m,\u001b[49m\n\u001b[0;32m    498\u001b[0m \u001b[43m        \u001b[49m\u001b[43mengine\u001b[49m\u001b[38;5;241;43m=\u001b[39;49m\u001b[43mengine\u001b[49m\u001b[43m,\u001b[49m\n\u001b[0;32m    499\u001b[0m \u001b[43m        \u001b[49m\u001b[43mengine_kwargs\u001b[49m\u001b[38;5;241;43m=\u001b[39;49m\u001b[43mengine_kwargs\u001b[49m\u001b[43m,\u001b[49m\n\u001b[0;32m    500\u001b[0m \u001b[43m    \u001b[49m\u001b[43m)\u001b[49m\n\u001b[0;32m    501\u001b[0m \u001b[38;5;28;01melif\u001b[39;00m engine \u001b[38;5;129;01mand\u001b[39;00m engine \u001b[38;5;241m!=\u001b[39m io\u001b[38;5;241m.\u001b[39mengine:\n\u001b[0;32m    502\u001b[0m     \u001b[38;5;28;01mraise\u001b[39;00m \u001b[38;5;167;01mValueError\u001b[39;00m(\n\u001b[0;32m    503\u001b[0m         \u001b[38;5;124m\"\u001b[39m\u001b[38;5;124mEngine should not be specified when passing \u001b[39m\u001b[38;5;124m\"\u001b[39m\n\u001b[0;32m    504\u001b[0m         \u001b[38;5;124m\"\u001b[39m\u001b[38;5;124man ExcelFile - ExcelFile already has the engine set\u001b[39m\u001b[38;5;124m\"\u001b[39m\n\u001b[0;32m    505\u001b[0m     )\n",
      "File \u001b[1;32mc:\\Users\\jmoscoso04\\AppData\\Local\\Programs\\Python\\Python310\\lib\\site-packages\\pandas\\io\\excel\\_base.py:1567\u001b[0m, in \u001b[0;36mExcelFile.__init__\u001b[1;34m(self, path_or_buffer, engine, storage_options, engine_kwargs)\u001b[0m\n\u001b[0;32m   1564\u001b[0m \u001b[38;5;28mself\u001b[39m\u001b[38;5;241m.\u001b[39mengine \u001b[38;5;241m=\u001b[39m engine\n\u001b[0;32m   1565\u001b[0m \u001b[38;5;28mself\u001b[39m\u001b[38;5;241m.\u001b[39mstorage_options \u001b[38;5;241m=\u001b[39m storage_options\n\u001b[1;32m-> 1567\u001b[0m \u001b[38;5;28mself\u001b[39m\u001b[38;5;241m.\u001b[39m_reader \u001b[38;5;241m=\u001b[39m \u001b[38;5;28;43mself\u001b[39;49m\u001b[38;5;241;43m.\u001b[39;49m\u001b[43m_engines\u001b[49m\u001b[43m[\u001b[49m\u001b[43mengine\u001b[49m\u001b[43m]\u001b[49m\u001b[43m(\u001b[49m\n\u001b[0;32m   1568\u001b[0m \u001b[43m    \u001b[49m\u001b[38;5;28;43mself\u001b[39;49m\u001b[38;5;241;43m.\u001b[39;49m\u001b[43m_io\u001b[49m\u001b[43m,\u001b[49m\n\u001b[0;32m   1569\u001b[0m \u001b[43m    \u001b[49m\u001b[43mstorage_options\u001b[49m\u001b[38;5;241;43m=\u001b[39;49m\u001b[43mstorage_options\u001b[49m\u001b[43m,\u001b[49m\n\u001b[0;32m   1570\u001b[0m \u001b[43m    \u001b[49m\u001b[43mengine_kwargs\u001b[49m\u001b[38;5;241;43m=\u001b[39;49m\u001b[43mengine_kwargs\u001b[49m\u001b[43m,\u001b[49m\n\u001b[0;32m   1571\u001b[0m \u001b[43m\u001b[49m\u001b[43m)\u001b[49m\n",
      "File \u001b[1;32mc:\\Users\\jmoscoso04\\AppData\\Local\\Programs\\Python\\Python310\\lib\\site-packages\\pandas\\io\\excel\\_openpyxl.py:552\u001b[0m, in \u001b[0;36mOpenpyxlReader.__init__\u001b[1;34m(self, filepath_or_buffer, storage_options, engine_kwargs)\u001b[0m\n\u001b[0;32m    534\u001b[0m \u001b[38;5;129m@doc\u001b[39m(storage_options\u001b[38;5;241m=\u001b[39m_shared_docs[\u001b[38;5;124m\"\u001b[39m\u001b[38;5;124mstorage_options\u001b[39m\u001b[38;5;124m\"\u001b[39m])\n\u001b[0;32m    535\u001b[0m \u001b[38;5;28;01mdef\u001b[39;00m \u001b[38;5;21m__init__\u001b[39m(\n\u001b[0;32m    536\u001b[0m     \u001b[38;5;28mself\u001b[39m,\n\u001b[1;32m   (...)\u001b[0m\n\u001b[0;32m    539\u001b[0m     engine_kwargs: \u001b[38;5;28mdict\u001b[39m \u001b[38;5;241m|\u001b[39m \u001b[38;5;28;01mNone\u001b[39;00m \u001b[38;5;241m=\u001b[39m \u001b[38;5;28;01mNone\u001b[39;00m,\n\u001b[0;32m    540\u001b[0m ) \u001b[38;5;241m-\u001b[39m\u001b[38;5;241m>\u001b[39m \u001b[38;5;28;01mNone\u001b[39;00m:\n\u001b[0;32m    541\u001b[0m     \u001b[38;5;124;03m\"\"\"\u001b[39;00m\n\u001b[0;32m    542\u001b[0m \u001b[38;5;124;03m    Reader using openpyxl engine.\u001b[39;00m\n\u001b[0;32m    543\u001b[0m \n\u001b[1;32m   (...)\u001b[0m\n\u001b[0;32m    550\u001b[0m \u001b[38;5;124;03m        Arbitrary keyword arguments passed to excel engine.\u001b[39;00m\n\u001b[0;32m    551\u001b[0m \u001b[38;5;124;03m    \"\"\"\u001b[39;00m\n\u001b[1;32m--> 552\u001b[0m     \u001b[43mimport_optional_dependency\u001b[49m\u001b[43m(\u001b[49m\u001b[38;5;124;43m\"\u001b[39;49m\u001b[38;5;124;43mopenpyxl\u001b[39;49m\u001b[38;5;124;43m\"\u001b[39;49m\u001b[43m)\u001b[49m\n\u001b[0;32m    553\u001b[0m     \u001b[38;5;28msuper\u001b[39m()\u001b[38;5;241m.\u001b[39m\u001b[38;5;21m__init__\u001b[39m(\n\u001b[0;32m    554\u001b[0m         filepath_or_buffer,\n\u001b[0;32m    555\u001b[0m         storage_options\u001b[38;5;241m=\u001b[39mstorage_options,\n\u001b[0;32m    556\u001b[0m         engine_kwargs\u001b[38;5;241m=\u001b[39mengine_kwargs,\n\u001b[0;32m    557\u001b[0m     )\n",
      "File \u001b[1;32mc:\\Users\\jmoscoso04\\AppData\\Local\\Programs\\Python\\Python310\\lib\\site-packages\\pandas\\compat\\_optional.py:164\u001b[0m, in \u001b[0;36mimport_optional_dependency\u001b[1;34m(name, extra, errors, min_version)\u001b[0m\n\u001b[0;32m    162\u001b[0m     \u001b[38;5;28;01mreturn\u001b[39;00m \u001b[38;5;28;01mNone\u001b[39;00m\n\u001b[0;32m    163\u001b[0m \u001b[38;5;28;01melif\u001b[39;00m errors \u001b[38;5;241m==\u001b[39m \u001b[38;5;124m\"\u001b[39m\u001b[38;5;124mraise\u001b[39m\u001b[38;5;124m\"\u001b[39m:\n\u001b[1;32m--> 164\u001b[0m     \u001b[38;5;28;01mraise\u001b[39;00m \u001b[38;5;167;01mImportError\u001b[39;00m(msg)\n\u001b[0;32m    165\u001b[0m \u001b[38;5;28;01melse\u001b[39;00m:\n\u001b[0;32m    166\u001b[0m     \u001b[38;5;28;01mreturn\u001b[39;00m \u001b[38;5;28;01mNone\u001b[39;00m\n",
      "\u001b[1;31mImportError\u001b[0m: Pandas requires version '3.1.0' or newer of 'openpyxl' (version '3.0.10' currently installed)."
     ]
    }
   ],
   "source": [
    "# Librerías\n",
    "# =================\n",
    "import os\n",
    "import pandas as pd\n",
    "\n",
    "import warnings;\n",
    "warnings.simplefilter('ignore')\n",
    "\n",
    "# Modulos\n",
    "# =================\n",
    "# from code.parameters import Parameters\n",
    "from src.class_preprocessing import data_to_class\n",
    "from src.class_classification import train_classification, fn_classification\n",
    "\n",
    "# Train\n",
    "# =================\n",
    "# df_variables    = pd.read_csv(os.path.join(Parameters.input_path, 'dataset_alpha_betha.csv'))\n",
    "X, y            = data_to_class(df_all_players)\n",
    "train_classification(X, y)\n",
    "    \n",
    "# # Process\n",
    "# # =================\n",
    "# df_to_pred      = pd.read_csv(os.path.join(Parameters.input_path, 'to_predict.csv'))\n",
    "# df_pred_demand  = pd.read_excel(os.path.join(Parameters.results_path, 'df_plot.xlsx'))\n",
    "# df_to_pred['Demand'] = df_pred_demand[['year_month','pred']][-3:]['pred'].values\n",
    "# X, y            = data_to_class(df_to_pred)\n",
    "# df_class, df_class_consolidate        = fn_classification(df_to_pred, X)"
   ]
  }
 ],
 "metadata": {
  "kernelspec": {
   "display_name": ".venv",
   "language": "python",
   "name": "python3"
  },
  "language_info": {
   "codemirror_mode": {
    "name": "ipython",
    "version": 3
   },
   "file_extension": ".py",
   "mimetype": "text/x-python",
   "name": "python",
   "nbconvert_exporter": "python",
   "pygments_lexer": "ipython3",
   "version": "3.10.8"
  }
 },
 "nbformat": 4,
 "nbformat_minor": 2
}
