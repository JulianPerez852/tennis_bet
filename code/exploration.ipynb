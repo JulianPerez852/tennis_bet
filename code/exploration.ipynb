{
 "cells": [
  {
   "cell_type": "code",
   "execution_count": 1,
   "metadata": {},
   "outputs": [
    {
     "name": "stdout",
     "output_type": "stream",
     "text": [
      "<Response [200]>\n",
      "Análisis completado. Revisa el archivo 'betting_analysis.xlsx' para ver los resultados.\n"
     ]
    }
   ],
   "source": [
    "# Process\n",
    "# =================\n",
    "from main import process\n",
    "\n",
    "year, month, day= '2022', '03', '16'\n",
    "\n",
    "df_games_of_day,\\\n",
    "df_games_acum,\\\n",
    "df_fply_gold,\\\n",
    "df_class,\\\n",
    "df_class_consolidate,\\\n",
    "df_risk,\\\n",
    "monte_carlo_results,\\\n",
    "monte_carlo_summary = process(False, year, month, day)"
   ]
  },
  {
   "cell_type": "code",
   "execution_count": 1,
   "metadata": {},
   "outputs": [],
   "source": [
    "# Libraries\n",
    "# =================\n",
    "import os\n",
    "import pandas as pd\n",
    "\n",
    "# Parameters\n",
    "# =================\n",
    "from src.parameters import Parameters\n",
    "\n",
    "# Data\n",
    "# =================\n",
    "from src.data_clean import get_data\n",
    "from src.data_ranking import atp_ranking_last_date\n",
    "from src.data_scrapped_clean import scrapped_data_organized\n",
    "\n",
    "# Scrapping\n",
    "# =================\n",
    "from src.scrapping import scrapping_tennis_data\n",
    "\n",
    "\n",
    "# Classification\n",
    "# =================\n",
    "from src.class_preprocessing import data_to_class\n",
    "from src.class_classification import train_classification, fn_classification\n",
    "\n",
    "# Risk\n",
    "# =================\n",
    "from src.risk_analysis import risk_analysis_montecarlo\n",
    "\n",
    "# Process\n",
    "# =================\n",
    "from main import process\n",
    "\n",
    "# Warnings\n",
    "# =================\n",
    "import warnings\n",
    "warnings.filterwarnings(\"ignore\")"
   ]
  },
  {
   "cell_type": "code",
   "execution_count": null,
   "metadata": {},
   "outputs": [],
   "source": [
    "# Train\n",
    "# =================\n",
    "df_raw = pd.read_csv(os.path.join(Parameters.train_path, Parameters.nombre_archivo_raw))\n",
    "df_raw = df_raw.rename(columns={'AvgW':'pl1_bet','AvgL':'pl2_bet'})\n",
    "df_bronze, df_silver, df_gold = get_data(df_raw, \n",
    "                                        True, \n",
    "                                        Parameters.train_path, \n",
    "                                        Parameters.nombre_archivo_gold)\n",
    "\n",
    "X, y, preprocessor = data_to_class(df_gold)\n",
    "train_classification(X, y, preprocessor, Parameters.results_path, Parameters.models_path)"
   ]
  },
  {
   "cell_type": "code",
   "execution_count": 2,
   "metadata": {},
   "outputs": [],
   "source": [
    "year, month, day= '2022', '03', '05'\n",
    "n_date = f'{year}-{month}-{day}'\n",
    "ndate = f'{year}{month}{day}'"
   ]
  },
  {
   "cell_type": "code",
   "execution_count": 3,
   "metadata": {},
   "outputs": [
    {
     "name": "stdout",
     "output_type": "stream",
     "text": [
      "<Response [200]>\n"
     ]
    }
   ],
   "source": [
    "df_games_of_day, df_games_acum = scrapping_tennis_data(year,month,day,\n",
    "                                                    Parameters.req_headers,\n",
    "                                                    Parameters.scraped_path, \n",
    "                                                    Parameters.file_match_result, \n",
    "                                                    Parameters.file_fields_desc,\n",
    "                                                    Parameters.file_players_desc,\n",
    "                                                    Parameters.file_games, \n",
    "                                                    Parameters.daily_dump_path)"
   ]
  },
  {
   "cell_type": "code",
   "execution_count": 2,
   "metadata": {},
   "outputs": [],
   "source": [
    "# df_games_of_day = pd.read_csv(os.path.join(Parameters.daily_dump_path, 'df_games_20220306.csv'), sep='|')"
   ]
  },
  {
   "cell_type": "code",
   "execution_count": 7,
   "metadata": {},
   "outputs": [],
   "source": [
    "# Pred\n",
    "# =================\n",
    "\n",
    "atp_all = atp_ranking_last_date(Parameters.utils_path, \"atp_mens_tour\", n_date)\n",
    "df_fply, df_fply_bronze, df_fply_silver, df_fply_gold = scrapped_data_organized(df_games_of_day,\n",
    "                                                                                Parameters.utils_path, \n",
    "                                                                                Parameters.daily_dump_path,\n",
    "                                                                                Parameters.file_paises,\n",
    "                                                                                f'df_games_cleaned_{ndate.replace(\"-\",\"\")}.csv',\n",
    "                                                                                atp_all)\n",
    "\n",
    "# df_to_pred                              = pd.read_csv(os.path.join(results_path, file_data_scrapped_cleaned))\n",
    "df_to_pred                              = df_fply_gold.copy()\n",
    "X, y, preprocessor                      = data_to_class(df_to_pred)\n",
    "df_class, \\\n",
    "df_class_consolidate, \\\n",
    "reporte_clasificacion                   = fn_classification(df_to_pred, X, n_date, Parameters.results_path)"
   ]
  },
  {
   "cell_type": "code",
   "execution_count": 11,
   "metadata": {},
   "outputs": [
    {
     "name": "stdout",
     "output_type": "stream",
     "text": [
      "Análisis completado. Revisa el archivo 'betting_analysis.xlsx' para ver los resultados.\n"
     ]
    }
   ],
   "source": [
    "# Risk\n",
    "# =================\n",
    "\n",
    "df_risk, monte_carlo_results, monte_carlo_summary = risk_analysis_montecarlo(df_class,\n",
    "                                                                            Parameters.risk_free_rate, \n",
    "                                                                            Parameters.risk_tolerance, \n",
    "                                                                            Parameters.total_money, \n",
    "                                                                            Parameters.num_simulations, \n",
    "                                                                            Parameters.num_bets,\n",
    "                                                                            Parameters.plots_path,\n",
    "                                                                            Parameters.results_path,\n",
    "                                                                            f'{Parameters.name_monte_carlo_dist}_{ndate}.png',\n",
    "                                                                            f'{Parameters.name_ev_comparation}_{ndate}.png',\n",
    "                                                                            f'{Parameters.name_sharpe_ratio_comparison}_{ndate}.png',\n",
    "                                                                            f'{Parameters.file_betting_analysis}_{ndate}.xlsx')"
   ]
  },
  {
   "cell_type": "code",
   "execution_count": 12,
   "metadata": {},
   "outputs": [
    {
     "name": "stdout",
     "output_type": "stream",
     "text": [
      "<Response [200]>\n",
      "Análisis completado. Revisa el archivo 'betting_analysis.xlsx' para ver los resultados.\n"
     ]
    }
   ],
   "source": [
    "from scipy.optimize import minimize\n",
    "import numpy as np\n",
    "\n",
    "# Define the decision variables: amount of money to bet on each player (initial values are proportional to the Sharpe Ratio)\n",
    "initial_money = df['Money_to_Bet'].values\n",
    "\n",
    "# Constraints: Total money to bet (let's assume $100 as an example) \n",
    "total_money = 100\n",
    "\n",
    "# Define the optimization function: minimize the negative utility (since we want to maximize utility)\n",
    "# Utility = EV * Prob_Win - Risk factor (penalize low Sharpe ratios and high deviations)\n",
    "def utility_distribution(x):\n",
    "    EV = df['Best_Bet_EV'].values\n",
    "    prob_win = df['Prob_Win'].values\n",
    "    sharpe_ratio = df['Sharpe_Ratio_pl1'].values # Assuming we focus on pl1\n",
    "    std_dev = df['Std_Dev_pl1'].values # Assuming we focus on pl1\n",
    "    \n",
    "    # Calculate utility: positive part is based on EV and Prob_Win, negative part penalizes risk\n",
    "    utility = np.sum(x * (EV * prob_win)) - np.sum(x * (std_dev / (1 + np.abs(sharpe_ratio))))\n",
    "    \n",
    "    # Return negative utility because we want to maximize the positive utility\n",
    "    return -utility\n",
    "\n",
    "# Constraints: the sum of all money to be distributed should equal the total money available\n",
    "constraints = [{'type': 'eq', 'fun': lambda x: np.sum(x) - total_money}]\n",
    "\n",
    "# Bounds: Each amount of money should be non-negative\n",
    "bounds = [(0, None)] * len(initial_money)\n",
    "\n",
    "# Run the optimization\n",
    "result = minimize(utility_distribution, initial_money, bounds=bounds, constraints=constraints)\n",
    "\n",
    "# Check the optimized amounts of money to bet on each player\n",
    "result.x\n"
   ]
  }
 ],
 "metadata": {
  "kernelspec": {
   "display_name": ".venv",
   "language": "python",
   "name": "python3"
  },
  "language_info": {
   "codemirror_mode": {
    "name": "ipython",
    "version": 3
   },
   "file_extension": ".py",
   "mimetype": "text/x-python",
   "name": "python",
   "nbconvert_exporter": "python",
   "pygments_lexer": "ipython3",
   "version": "3.10.8"
  }
 },
 "nbformat": 4,
 "nbformat_minor": 2
}
