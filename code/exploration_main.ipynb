{
 "cells": [
  {
   "cell_type": "code",
   "execution_count": 1,
   "metadata": {},
   "outputs": [],
   "source": [
    "# Libraries\n",
    "# =================\n",
    "import os\n",
    "import pandas as pd\n",
    "\n",
    "# Parameters\n",
    "# =================\n",
    "from src.parameters import Parameters\n",
    "\n",
    "# Data\n",
    "# =================\n",
    "from src.data_clean import get_data\n",
    "from src.data_ranking import atp_ranking_last_date\n",
    "from src.data_scrapped_clean import scrapped_data_organized\n",
    "\n",
    "# Scrapping\n",
    "# =================\n",
    "from src.scrapping import scrapping_tennis_data\n",
    "\n",
    "\n",
    "# Classification\n",
    "# =================\n",
    "from src.class_preprocessing import data_to_class\n",
    "from src.class_classification import train_classification, fn_classification\n",
    "\n",
    "# Risk\n",
    "# =================\n",
    "from src.risk_analysis import risk_analysis_montecarlo\n",
    "\n",
    "# Optimization\n",
    "# =================\n",
    "from src.optimization import Optimization\n",
    "\n",
    "# Warnings\n",
    "# =================\n",
    "import warnings\n",
    "warnings.filterwarnings(\"ignore\")"
   ]
  },
  {
   "cell_type": "code",
   "execution_count": null,
   "metadata": {},
   "outputs": [],
   "source": [
    "# Date to process\n",
    "# =================\n",
    "year, month, day= '2022', '03', '16'\n",
    "n_date = f'{year}-{month}-{day}'\n",
    "ndate = f'{year}{month}{day}'"
   ]
  },
  {
   "cell_type": "code",
   "execution_count": null,
   "metadata": {},
   "outputs": [],
   "source": [
    "# Train\n",
    "# =================\n",
    "df_raw = pd.read_csv(os.path.join(Parameters.train_path, Parameters.nombre_archivo_raw))\n",
    "df_raw = df_raw.rename(columns={'AvgW':'pl1_bet','AvgL':'pl2_bet'})\n",
    "df_bronze, df_silver, df_gold = get_data(df_raw, \n",
    "                                        True, \n",
    "                                        Parameters.train_path, \n",
    "                                        Parameters.nombre_archivo_gold)\n",
    "\n",
    "X, y, preprocessor = data_to_class(df_gold)\n",
    "train_classification(X, y, preprocessor, Parameters.results_path, Parameters.models_path)"
   ]
  },
  {
   "cell_type": "code",
   "execution_count": 3,
   "metadata": {},
   "outputs": [
    {
     "name": "stdout",
     "output_type": "stream",
     "text": [
      "<Response [200]>\n"
     ]
    }
   ],
   "source": [
    "# Scrapping\n",
    "# =================\n",
    "df_games_of_day, df_games_acum = scrapping_tennis_data(year,month,day,\n",
    "                                                    Parameters.req_headers,\n",
    "                                                    Parameters.scraped_path, \n",
    "                                                    Parameters.file_match_result, \n",
    "                                                    Parameters.file_fields_desc,\n",
    "                                                    Parameters.file_players_desc,\n",
    "                                                    Parameters.file_games, \n",
    "                                                    Parameters.daily_dump_path)"
   ]
  },
  {
   "cell_type": "code",
   "execution_count": 2,
   "metadata": {},
   "outputs": [],
   "source": [
    "# df_games_of_day = pd.read_csv(os.path.join(Parameters.daily_dump_path, 'df_games_20220306.csv'), sep='|')"
   ]
  },
  {
   "cell_type": "code",
   "execution_count": 7,
   "metadata": {},
   "outputs": [],
   "source": [
    "# Pred\n",
    "# =================\n",
    "\n",
    "atp_all = atp_ranking_last_date(Parameters.utils_path, \"atp_mens_tour\", n_date)\n",
    "df_fply, df_fply_bronze, df_fply_silver, df_fply_gold = scrapped_data_organized(df_games_of_day,\n",
    "                                                                                Parameters.utils_path, \n",
    "                                                                                Parameters.daily_dump_path,\n",
    "                                                                                Parameters.file_paises,\n",
    "                                                                                f'df_games_cleaned_{ndate.replace(\"-\",\"\")}.csv',\n",
    "                                                                                atp_all)\n",
    "\n",
    "# df_to_pred                              = pd.read_csv(os.path.join(results_path, file_data_scrapped_cleaned))\n",
    "df_to_pred                              = df_fply_gold.copy()\n",
    "X, y, preprocessor                      = data_to_class(df_to_pred)\n",
    "df_class, \\\n",
    "df_class_consolidate, \\\n",
    "reporte_clasificacion                   = fn_classification(df_to_pred, X, n_date, Parameters.results_path)"
   ]
  },
  {
   "cell_type": "code",
   "execution_count": 11,
   "metadata": {},
   "outputs": [
    {
     "name": "stdout",
     "output_type": "stream",
     "text": [
      "Análisis completado. Revisa el archivo 'betting_analysis.xlsx' para ver los resultados.\n"
     ]
    }
   ],
   "source": [
    "# Risk\n",
    "# =================\n",
    "df_risk, monte_carlo_results, monte_carlo_summary = risk_analysis_montecarlo(df_class,\n",
    "                                                                            Parameters.risk_free_rate, \n",
    "                                                                            Parameters.risk_tolerance, \n",
    "                                                                            Parameters.total_money, \n",
    "                                                                            Parameters.num_simulations, \n",
    "                                                                            Parameters.num_bets,\n",
    "                                                                            Parameters.plots_path,\n",
    "                                                                            Parameters.results_path,\n",
    "                                                                            f'{Parameters.name_monte_carlo_dist}_{ndate}.png',\n",
    "                                                                            f'{Parameters.name_ev_comparation}_{ndate}.png',\n",
    "                                                                            f'{Parameters.name_sharpe_ratio_comparison}_{ndate}.png',\n",
    "                                                                            f'{Parameters.file_betting_analysis}_{ndate}.xlsx',\n",
    "                                                                            False)"
   ]
  },
  {
   "cell_type": "code",
   "execution_count": null,
   "metadata": {},
   "outputs": [],
   "source": [
    "\n",
    "# Optimization\n",
    "# =================\n",
    "\n",
    "# df_risk = pd.read_excel(os.path.join(Parameters.results_path,\n",
    "#                                               f'{Parameters.file_betting_analysis}_{ndate}.xlsx'),\n",
    "#                                               sheet_name='Betting Decisions')\n",
    "\n",
    "# df_risk['match'] = df_risk['pl1'] +'\\n' + df_risk['pl2']\n",
    "\n",
    "optimizer = Optimization(df_risk, Parameters.total_money, Parameters.max_loss_percentage, Parameters.min_percentage)\n",
    "df_risk_optimized = optimizer.optimize()\n",
    "df_risk_optimized = risk_analysis_montecarlo(df_risk_optimized,\n",
    "                                            Parameters.risk_free_rate, \n",
    "                                            Parameters.risk_tolerance, \n",
    "                                            Parameters.total_money, \n",
    "                                            Parameters.num_simulations, \n",
    "                                            Parameters.num_bets,\n",
    "                                            Parameters.plots_path,\n",
    "                                            Parameters.results_path,\n",
    "                                            f'{Parameters.name_monte_carlo_dist}_{ndate}__Optimized.png',\n",
    "                                            f'{Parameters.name_ev_comparation}_{ndate}_Optimized.png',\n",
    "                                            f'{Parameters.name_sharpe_ratio_comparison}_{ndate}_Optimized.png',\n",
    "                                            f'{Parameters.file_betting_analysis}_{ndate}_Optimized.xlsx',\n",
    "                                            True)"
   ]
  }
 ],
 "metadata": {
  "kernelspec": {
   "display_name": ".venv",
   "language": "python",
   "name": "python3"
  },
  "language_info": {
   "codemirror_mode": {
    "name": "ipython",
    "version": 3
   },
   "file_extension": ".py",
   "mimetype": "text/x-python",
   "name": "python",
   "nbconvert_exporter": "python",
   "pygments_lexer": "ipython3",
   "version": "3.10.8"
  }
 },
 "nbformat": 4,
 "nbformat_minor": 2
}
