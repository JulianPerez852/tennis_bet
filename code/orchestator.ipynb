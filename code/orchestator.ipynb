{
 "cells": [
  {
   "cell_type": "code",
   "execution_count": 2,
   "metadata": {},
   "outputs": [
    {
     "name": "stdout",
     "output_type": "stream",
     "text": [
      "=================\n",
      "2022-03-28\n",
      "<Response [200]>\n",
      "Análisis completado. Revisa el archivo betting_analysis_20220328.xlsx' para ver los resultados.\n",
      "Análisis completado. Revisa el archivo betting_analysis_20220328_Optimized.xlsx' para ver los resultados.\n"
     ]
    }
   ],
   "source": [
    "# Process\n",
    "# =================\n",
    "from main import process\n",
    "\n",
    "start_date = '2020-01-01'\n",
    "end_date = '2022-12-31'\n",
    "process(False, start_date, end_date)\n",
    "\n",
    "# df_games_of_day,\\\n",
    "# df_games_acum,\\\n",
    "# df_fply_gold,\\\n",
    "# df_class,\\\n",
    "# df_class_consolidate,\\\n",
    "# df_risk,\\\n",
    "# df_risk_optimized = process(False, start_date, end_date)"
   ]
  }
 ],
 "metadata": {
  "kernelspec": {
   "display_name": "Python 3",
   "language": "python",
   "name": "python3"
  },
  "language_info": {
   "codemirror_mode": {
    "name": "ipython",
    "version": 3
   },
   "file_extension": ".py",
   "mimetype": "text/x-python",
   "name": "python",
   "nbconvert_exporter": "python",
   "pygments_lexer": "ipython3",
   "version": "3.10.8"
  }
 },
 "nbformat": 4,
 "nbformat_minor": 2
}
