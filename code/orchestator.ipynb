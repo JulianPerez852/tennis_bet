{
 "cells": [
  {
   "cell_type": "code",
   "execution_count": 1,
   "metadata": {},
   "outputs": [
    {
     "name": "stdout",
     "output_type": "stream",
     "text": [
      "=================\n",
      "2024-09-08\n",
      "<Response [200]>\n",
      "2024-09-08 00:00:00 fail\n",
      "=================\n",
      "2024-09-09\n",
      "<Response [200]>\n",
      "2024-09-09 00:00:00 runs correctly\n",
      "=================\n",
      "2024-09-10\n",
      "<Response [200]>\n",
      "2024-09-10 00:00:00 runs correctly\n",
      "Análisis completado. Revisa el archivo betting_analysis_20240908_20240910.xlsx' para ver los resultados.\n",
      "Análisis completado. Revisa el archivo betting_analysis_20240908_20240910_Optimized.xlsx' para ver los resultados.\n",
      "Durante el 2024-09-08 y el 2024-09-10, hiciste 67 apuestas\n",
      "    de las cuales ganaste en 63,\n",
      "    es decir, ganaste un 94.0% de las veces \n",
      "    Obtuviste una ganancia 104\n",
      "    Tu inversión eran 100\n",
      "    Por ende, ganaste 4.010000000000005\n",
      "    Aumentando tu patrimonio un 0.04010000000000005\n",
      "    Tu patrimonio quedó en 104.01\n",
      "        \n"
     ]
    }
   ],
   "source": [
    "# Process\n",
    "# =================\n",
    "from main import process\n",
    "\n",
    "start_date = '2024-09-08'\n",
    "end_date = '2024-09-10'\n",
    "iota = process(False, start_date, end_date)\n",
    "\n",
    "# df_games_of_day,\\\n",
    "# df_games_acum,\\\n",
    "# df_fply_gold,\\\n",
    "# df_class,\\\n",
    "# df_class_consolidate,\\\n",
    "# df_risk,\\\n",
    "# df_risk_optimized = process(False, start_date, end_date)"
   ]
  },
  {
   "cell_type": "code",
   "execution_count": 1,
   "metadata": {},
   "outputs": [],
   "source": [
    "# Libraries\n",
    "# =================\n",
    "import os\n",
    "import pandas as pd\n",
    "\n",
    "# Parameters\n",
    "# =================\n",
    "from src.parameters import Parameters\n",
    "\n",
    "from src.data_ranking import atp_ranking_last_date\n",
    "from src.data_scrapped_clean import scrapped_data_organized\n",
    "\n",
    "from src.class_competition import evaluate_models_classification, class_competition\n",
    "from sklearn.model_selection import train_test_split\n",
    "from sklearn.metrics import classification_report\n"
   ]
  },
  {
   "cell_type": "code",
   "execution_count": 13,
   "metadata": {},
   "outputs": [],
   "source": [
    "# Classification\n",
    "# =================\n",
    "from src.class_preprocessing import data_to_class\n",
    "from src.class_classification import train_classification\n",
    "\n",
    "list_files_scraped = [x for x in os.listdir(Parameters.daily_dump_path) if 'cleaned' in x]\n",
    "df_gold = pd.DataFrame()\n",
    "for file_scraped in list_files_scraped:\n",
    "    df_gold = pd.concat([df_gold, pd.read_csv(os.path.join(Parameters.daily_dump_path, file_scraped), sep = '|')])\n",
    "\n",
    "X, y, preprocessor = data_to_class(df_gold)\n",
    "train_classification(X, y, preprocessor, Parameters.results_path, Parameters.models_path)"
   ]
  },
  {
   "cell_type": "code",
   "execution_count": null,
   "metadata": {},
   "outputs": [],
   "source": [
    "list_files_scraped = [x for x in os.listdir(Parameters.daily_dump_path) if 'cleaned' not in x]\n",
    "list_files_scraped = [x for x in list_files_scraped if x >= 'df_games_20220101.csv']\n",
    "# list_files_scraped = ['df_games_20210905.csv']\n",
    "df_all_scraped = pd.DataFrame()\n",
    "df_dates_fail = []\n",
    "\n",
    "for file_scraped in list_files_scraped:\n",
    "    try:\n",
    "        \n",
    "        df_games_of_day = pd.read_csv(os.path.join(Parameters.daily_dump_path, file_scraped), sep = '|')\n",
    "        ndate = file_scraped.split(\"_\")[2].split(\".\")[0]\n",
    "        n_date = f'{ndate[0:4]}-{ndate[4:6]}-{ndate[6:8]}'\n",
    "        print(\"=\"*17)               \n",
    "        print(ndate)\n",
    "        atp_all = atp_ranking_last_date(Parameters.utils_path, \"atp_mens_tour\", n_date)\n",
    "        df_fply, df_fply_bronze, df_fply_silver, df_fply_gold = scrapped_data_organized(df_games_of_day,\n",
    "                                                                                        Parameters.utils_path, \n",
    "                                                                                        Parameters.daily_dump_path,\n",
    "                                                                                        Parameters.file_paises,\n",
    "                                                                                        f'df_games_cleaned_{ndate}.csv',\n",
    "                                                                                        atp_all\n",
    "                                                                                        )\n",
    "    except:\n",
    "            df_dates_fail.append(ndate)\n",
    "            print(f'{ndate} fail')\n",
    "    "
   ]
  }
 ],
 "metadata": {
  "kernelspec": {
   "display_name": "Python 3",
   "language": "python",
   "name": "python3"
  },
  "language_info": {
   "codemirror_mode": {
    "name": "ipython",
    "version": 3
   },
   "file_extension": ".py",
   "mimetype": "text/x-python",
   "name": "python",
   "nbconvert_exporter": "python",
   "pygments_lexer": "ipython3",
   "version": "3.10.8"
  }
 },
 "nbformat": 4,
 "nbformat_minor": 2
}
