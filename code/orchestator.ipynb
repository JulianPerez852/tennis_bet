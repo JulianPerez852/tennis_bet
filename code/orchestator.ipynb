{
 "cells": [
  {
   "cell_type": "code",
   "execution_count": null,
   "metadata": {},
   "outputs": [],
   "source": [
    "# Process\n",
    "# =================\n",
    "from main import process\n",
    "\n",
    "year, month, day= '2022', '03', '16'\n",
    "\n",
    "df_games_of_day,\\\n",
    "df_games_acum,\\\n",
    "df_fply_gold,\\\n",
    "df_class,\\\n",
    "df_class_consolidate,\\\n",
    "df_risk,\\\n",
    "monte_carlo_results,\\\n",
    "monte_carlo_summary = process(False, year, month, day)"
   ]
  }
 ],
 "metadata": {
  "language_info": {
   "name": "python"
  }
 },
 "nbformat": 4,
 "nbformat_minor": 2
}
